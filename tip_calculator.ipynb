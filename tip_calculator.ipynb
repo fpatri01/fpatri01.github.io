{
  "nbformat": 4,
  "nbformat_minor": 0,
  "metadata": {
    "colab": {
      "provenance": [],
      "authorship_tag": "ABX9TyPDtZzVnESkguGdVe01eKeS",
      "include_colab_link": true
    },
    "kernelspec": {
      "name": "python3",
      "display_name": "Python 3"
    },
    "language_info": {
      "name": "python"
    }
  },
  "cells": [
    {
      "cell_type": "markdown",
      "metadata": {
        "id": "view-in-github",
        "colab_type": "text"
      },
      "source": [
        "<a href=\"https://colab.research.google.com/github/fpatri01/fpatri01.github.io/blob/main/tip_calculator.ipynb\" target=\"_parent\"><img src=\"https://colab.research.google.com/assets/colab-badge.svg\" alt=\"Open In Colab\"/></a>"
      ]
    },
    {
      "cell_type": "code",
      "execution_count": 8,
      "metadata": {
        "colab": {
          "base_uri": "https://localhost:8080/"
        },
        "id": "62OnNkNEylxZ",
        "outputId": "523ca239-4057-47eb-a3f7-302d70c29a0b"
      },
      "outputs": [
        {
          "output_type": "stream",
          "name": "stdout",
          "text": [
            "Hello. Welcome to the tip calculator!\n",
            "How much was the bill for your meal? \n",
            " $120\n",
            "What percent would you like to tip? Please select 10, 15 or 20: \n",
            "15\n",
            "Split the bill between how many people? \n",
            "5\n",
            "The cost per person is \n",
            " $27.60 per person\n"
          ]
        }
      ],
      "source": [
        "#calculate the user's final bill, split between any number of people\n",
        "#greet the user\n",
        "print(\"Hello. Welcome to the tip calculator!\")\n",
        "\n",
        "#calculate the tip\n",
        "bill = float(input(\"How much was the bill for your meal? \\n $\"))\n",
        "tip = int(input(\"What percent would you like to tip? Please select 10, 15 or 20: \\n\"))\n",
        "\n",
        "#calculate the total per person\n",
        "total = (tip/100)*bill + bill\n",
        "people = int(input(\"Split the bill between how many people? \\n\"))\n",
        "total_each = round(total/people, 2)\n",
        "\n",
        "#print total per person\n",
        "print(f\"The cost per person is \\n ${total_each:.2f} per person\")\n",
        "\n",
        "#end"
      ]
    }
  ]
}